{
 "cells": [
  {
   "cell_type": "code",
   "execution_count": 1,
   "metadata": {},
   "outputs": [
    {
     "data": {
      "text/plain": [
       "True"
      ]
     },
     "execution_count": 1,
     "metadata": {},
     "output_type": "execute_result"
    }
   ],
   "source": [
    "import pdfkit\n",
    "\n",
    "# Path to the HTML file\n",
    "html_file = 'POC_OSM_to_postGIS.html'\n",
    "\n",
    "# Path to the output PDF file\n",
    "pdf_file = 'output.pdf'\n",
    "\n",
    "# Convert HTML to PDF\n",
    "pdfkit.from_file(html_file, pdf_file)"
   ]
  }
 ],
 "metadata": {
  "kernelspec": {
   "display_name": "venv_osm_postgres",
   "language": "python",
   "name": "python3"
  },
  "language_info": {
   "codemirror_mode": {
    "name": "ipython",
    "version": 3
   },
   "file_extension": ".py",
   "mimetype": "text/x-python",
   "name": "python",
   "nbconvert_exporter": "python",
   "pygments_lexer": "ipython3",
   "version": "3.10.12"
  }
 },
 "nbformat": 4,
 "nbformat_minor": 2
}
